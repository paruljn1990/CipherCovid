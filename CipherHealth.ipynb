{
 "cells": [
  {
   "cell_type": "code",
   "execution_count": 979,
   "metadata": {},
   "outputs": [],
   "source": [
    "import pandas as pd\n",
    "import numpy as np\n",
    "import matplotlib.pyplot as plt\n",
    "import seaborn as sns\n",
    "import squarify\n",
    "from scipy.stats import chi2_contingency\n",
    "from scipy.stats import chisquare\n",
    "from scipy.stats import chi2\n",
    "import warnings\n",
    "warnings.filterwarnings('ignore')"
   ]
  },
  {
   "cell_type": "code",
   "execution_count": 980,
   "metadata": {},
   "outputs": [],
   "source": [
    "#taking the data into a dataframe\n",
    "covidstress = pd.read_excel(\"C:/Users/parul/Downloads/my_survey_results.xlsx\")"
   ]
  },
  {
   "cell_type": "code",
   "execution_count": 981,
   "metadata": {
    "scrolled": false
   },
   "outputs": [
    {
     "name": "stdout",
     "output_type": "stream",
     "text": [
      "<class 'pandas.core.frame.DataFrame'>\n",
      "RangeIndex: 44126 entries, 0 to 44125\n",
      "Data columns (total 29 columns):\n",
      " #   Column               Non-Null Count  Dtype \n",
      "---  ------               --------------  ----- \n",
      " 0   id                   44126 non-null  int64 \n",
      " 1   duration_in_seconds  44126 non-null  int64 \n",
      " 2   recorded_date        44126 non-null  object\n",
      " 3   age                  44126 non-null  int64 \n",
      " 4   gender               44022 non-null  object\n",
      " 5   edu                  43966 non-null  object\n",
      " 6   employment           43819 non-null  object\n",
      " 7   country              44026 non-null  object\n",
      " 8   maritalstatus        43929 non-null  object\n",
      " 9   riskgroup            44027 non-null  object\n",
      " 10  perceived_stress_1   44126 non-null  int64 \n",
      " 11  perceived_stress_2   44126 non-null  int64 \n",
      " 12  perceived_stress_3   44126 non-null  int64 \n",
      " 13  perceived_stress_4   44126 non-null  int64 \n",
      " 14  perceived_stress_5   44126 non-null  int64 \n",
      " 15  corona_concerns_1    44126 non-null  int64 \n",
      " 16  corona_concerns_2    44126 non-null  int64 \n",
      " 17  corona_concerns_3    44126 non-null  int64 \n",
      " 18  corona_concerns_4    44126 non-null  int64 \n",
      " 19  corona_concerns_5    44126 non-null  int64 \n",
      " 20  distress_1           44126 non-null  int64 \n",
      " 21  distress_2           44126 non-null  int64 \n",
      " 22  distress_3           44126 non-null  int64 \n",
      " 23  distress_4           44126 non-null  int64 \n",
      " 24  distress_5           44126 non-null  int64 \n",
      " 25  distress_6           44126 non-null  int64 \n",
      " 26  social_support_1     44126 non-null  int64 \n",
      " 27  social_support_2     44126 non-null  int64 \n",
      " 28  social_support_3     44126 non-null  int64 \n",
      "dtypes: int64(22), object(7)\n",
      "memory usage: 9.8+ MB\n"
     ]
    }
   ],
   "source": [
    "covidstress.info()"
   ]
  },
  {
   "cell_type": "markdown",
   "metadata": {},
   "source": [
    "we can see the list of all columns from our excel sheet above, along with the count of non-null values and the data type of each column. We have a total of 44126 records and 29 columns."
   ]
  },
  {
   "cell_type": "code",
   "execution_count": 982,
   "metadata": {},
   "outputs": [
    {
     "data": {
      "text/html": [
       "<div>\n",
       "<style scoped>\n",
       "    .dataframe tbody tr th:only-of-type {\n",
       "        vertical-align: middle;\n",
       "    }\n",
       "\n",
       "    .dataframe tbody tr th {\n",
       "        vertical-align: top;\n",
       "    }\n",
       "\n",
       "    .dataframe thead th {\n",
       "        text-align: right;\n",
       "    }\n",
       "</style>\n",
       "<table border=\"1\" class=\"dataframe\">\n",
       "  <thead>\n",
       "    <tr style=\"text-align: right;\">\n",
       "      <th></th>\n",
       "      <th>id</th>\n",
       "      <th>duration_in_seconds</th>\n",
       "      <th>recorded_date</th>\n",
       "      <th>age</th>\n",
       "      <th>gender</th>\n",
       "      <th>edu</th>\n",
       "      <th>employment</th>\n",
       "      <th>country</th>\n",
       "      <th>maritalstatus</th>\n",
       "      <th>riskgroup</th>\n",
       "      <th>...</th>\n",
       "      <th>corona_concerns_5</th>\n",
       "      <th>distress_1</th>\n",
       "      <th>distress_2</th>\n",
       "      <th>distress_3</th>\n",
       "      <th>distress_4</th>\n",
       "      <th>distress_5</th>\n",
       "      <th>distress_6</th>\n",
       "      <th>social_support_1</th>\n",
       "      <th>social_support_2</th>\n",
       "      <th>social_support_3</th>\n",
       "    </tr>\n",
       "  </thead>\n",
       "  <tbody>\n",
       "    <tr>\n",
       "      <th>0</th>\n",
       "      <td>6</td>\n",
       "      <td>1221</td>\n",
       "      <td>2020-05-29 21:25:09</td>\n",
       "      <td>68</td>\n",
       "      <td>Male</td>\n",
       "      <td>College degree, bachelor, master</td>\n",
       "      <td>Retired</td>\n",
       "      <td>Italy</td>\n",
       "      <td>Married/cohabiting</td>\n",
       "      <td>No</td>\n",
       "      <td>...</td>\n",
       "      <td>5</td>\n",
       "      <td>3</td>\n",
       "      <td>3</td>\n",
       "      <td>3</td>\n",
       "      <td>4</td>\n",
       "      <td>4</td>\n",
       "      <td>4</td>\n",
       "      <td>5</td>\n",
       "      <td>5</td>\n",
       "      <td>5</td>\n",
       "    </tr>\n",
       "    <tr>\n",
       "      <th>1</th>\n",
       "      <td>9</td>\n",
       "      <td>1952</td>\n",
       "      <td>2020-05-29 21:18:48</td>\n",
       "      <td>35</td>\n",
       "      <td>Female</td>\n",
       "      <td>College degree, bachelor, master</td>\n",
       "      <td>Full time employed</td>\n",
       "      <td>Panama</td>\n",
       "      <td>Married/cohabiting</td>\n",
       "      <td>Yes</td>\n",
       "      <td>...</td>\n",
       "      <td>2</td>\n",
       "      <td>4</td>\n",
       "      <td>2</td>\n",
       "      <td>4</td>\n",
       "      <td>5</td>\n",
       "      <td>3</td>\n",
       "      <td>4</td>\n",
       "      <td>5</td>\n",
       "      <td>5</td>\n",
       "      <td>5</td>\n",
       "    </tr>\n",
       "    <tr>\n",
       "      <th>2</th>\n",
       "      <td>13</td>\n",
       "      <td>2271</td>\n",
       "      <td>2020-05-30 20:22:53</td>\n",
       "      <td>42</td>\n",
       "      <td>Female</td>\n",
       "      <td>Up to 9 years of school</td>\n",
       "      <td>Full time employed</td>\n",
       "      <td>Panama</td>\n",
       "      <td>Married/cohabiting</td>\n",
       "      <td>No</td>\n",
       "      <td>...</td>\n",
       "      <td>1</td>\n",
       "      <td>5</td>\n",
       "      <td>2</td>\n",
       "      <td>5</td>\n",
       "      <td>5</td>\n",
       "      <td>5</td>\n",
       "      <td>1</td>\n",
       "      <td>6</td>\n",
       "      <td>5</td>\n",
       "      <td>5</td>\n",
       "    </tr>\n",
       "    <tr>\n",
       "      <th>3</th>\n",
       "      <td>14</td>\n",
       "      <td>965</td>\n",
       "      <td>2020-05-29 19:56:50</td>\n",
       "      <td>49</td>\n",
       "      <td>Female</td>\n",
       "      <td>Some College, short continuing education or eq...</td>\n",
       "      <td>Part time employed</td>\n",
       "      <td>Argentina</td>\n",
       "      <td>Single</td>\n",
       "      <td>No</td>\n",
       "      <td>...</td>\n",
       "      <td>4</td>\n",
       "      <td>5</td>\n",
       "      <td>5</td>\n",
       "      <td>2</td>\n",
       "      <td>5</td>\n",
       "      <td>5</td>\n",
       "      <td>2</td>\n",
       "      <td>5</td>\n",
       "      <td>5</td>\n",
       "      <td>4</td>\n",
       "    </tr>\n",
       "    <tr>\n",
       "      <th>4</th>\n",
       "      <td>22</td>\n",
       "      <td>7047</td>\n",
       "      <td>2020-05-29 19:47:37</td>\n",
       "      <td>69</td>\n",
       "      <td>Female</td>\n",
       "      <td>PhD/Doctorate</td>\n",
       "      <td>Retired</td>\n",
       "      <td>Mexico</td>\n",
       "      <td>Divorced/widowed</td>\n",
       "      <td>Yes</td>\n",
       "      <td>...</td>\n",
       "      <td>5</td>\n",
       "      <td>2</td>\n",
       "      <td>1</td>\n",
       "      <td>1</td>\n",
       "      <td>2</td>\n",
       "      <td>4</td>\n",
       "      <td>1</td>\n",
       "      <td>5</td>\n",
       "      <td>5</td>\n",
       "      <td>6</td>\n",
       "    </tr>\n",
       "  </tbody>\n",
       "</table>\n",
       "<p>5 rows × 29 columns</p>\n",
       "</div>"
      ],
      "text/plain": [
       "   id  duration_in_seconds        recorded_date  age  gender  \\\n",
       "0   6                 1221  2020-05-29 21:25:09   68    Male   \n",
       "1   9                 1952  2020-05-29 21:18:48   35  Female   \n",
       "2  13                 2271  2020-05-30 20:22:53   42  Female   \n",
       "3  14                  965  2020-05-29 19:56:50   49  Female   \n",
       "4  22                 7047  2020-05-29 19:47:37   69  Female   \n",
       "\n",
       "                                                 edu          employment  \\\n",
       "0                   College degree, bachelor, master             Retired   \n",
       "1                   College degree, bachelor, master  Full time employed   \n",
       "2                            Up to 9 years of school  Full time employed   \n",
       "3  Some College, short continuing education or eq...  Part time employed   \n",
       "4                                      PhD/Doctorate             Retired   \n",
       "\n",
       "     country       maritalstatus riskgroup  ...  corona_concerns_5  \\\n",
       "0      Italy  Married/cohabiting        No  ...                  5   \n",
       "1     Panama  Married/cohabiting       Yes  ...                  2   \n",
       "2     Panama  Married/cohabiting        No  ...                  1   \n",
       "3  Argentina              Single        No  ...                  4   \n",
       "4     Mexico    Divorced/widowed       Yes  ...                  5   \n",
       "\n",
       "   distress_1  distress_2  distress_3  distress_4  distress_5  distress_6  \\\n",
       "0           3           3           3           4           4           4   \n",
       "1           4           2           4           5           3           4   \n",
       "2           5           2           5           5           5           1   \n",
       "3           5           5           2           5           5           2   \n",
       "4           2           1           1           2           4           1   \n",
       "\n",
       "   social_support_1  social_support_2  social_support_3  \n",
       "0                 5                 5                 5  \n",
       "1                 5                 5                 5  \n",
       "2                 6                 5                 5  \n",
       "3                 5                 5                 4  \n",
       "4                 5                 5                 6  \n",
       "\n",
       "[5 rows x 29 columns]"
      ]
     },
     "execution_count": 982,
     "metadata": {},
     "output_type": "execute_result"
    }
   ],
   "source": [
    "covidstress.head()"
   ]
  },
  {
   "cell_type": "code",
   "execution_count": 983,
   "metadata": {},
   "outputs": [],
   "source": [
    "#converting object data types into their respective types\n",
    "covidstress[\"recorded_date\"] = pd.to_datetime(covidstress['recorded_date'])\n",
    "covidstress[\"gender\"] = covidstress[\"gender\"].astype(str)"
   ]
  },
  {
   "cell_type": "code",
   "execution_count": 984,
   "metadata": {},
   "outputs": [
    {
     "data": {
      "image/png": "[encoded data removed]",
      "text/plain": [
       "<Figure size 432x288 with 1 Axes>"
      ]
     },
     "metadata": {
      "needs_background": "light"
     },
     "output_type": "display_data"
    }
   ],
   "source": [
    "#plotting the distribution of age in our dataset\n",
    "covidstress['age'].plot.hist(title='Age distribution')\n",
    "plt.xlabel('age');"
   ]
  },
  {
   "cell_type": "code",
   "execution_count": 985,
   "metadata": {},
   "outputs": [
    {
     "data": {
      "text/plain": [
       "array(['Male', 'Female', 'Other/would rather not say', 'nan'],\n",
       "      dtype=object)"
      ]
     },
     "execution_count": 985,
     "metadata": {},
     "output_type": "execute_result"
    }
   ],
   "source": [
    "#checking unique gender values\n",
    "covidstress[\"gender\"].unique()"
   ]
  },
  {
   "cell_type": "markdown",
   "metadata": {},
   "source": [
    "Gender column has some rows with nan as their response. We will be replacing the nan with the 'Other/would rather not' say option."
   ]
  },
  {
   "cell_type": "code",
   "execution_count": 986,
   "metadata": {},
   "outputs": [],
   "source": [
    "covidstress[\"gender\"]=covidstress[\"gender\"].str.replace(\"nan\",\"Other/would rather not say\")"
   ]
  },
  {
   "cell_type": "code",
   "execution_count": 987,
   "metadata": {},
   "outputs": [
    {
     "data": {
      "image/png": "[encoded data removed]",
      "text/plain": [
       "<Figure size 432x288 with 1 Axes>"
      ]
     },
     "metadata": {
      "needs_background": "light"
     },
     "output_type": "display_data"
    }
   ],
   "source": [
    "sns.countplot(covidstress[\"gender\"])\n",
    "plt.title(\"Gender distribution\");"
   ]
  },
  {
   "cell_type": "code",
   "execution_count": 988,
   "metadata": {},
   "outputs": [
    {
     "data": {
      "text/plain": [
       "array(['College degree, bachelor, master', 'Up to 9 years of school',\n",
       "       'Some College, short continuing education or equivalent',\n",
       "       'PhD/Doctorate', 'Up to 12 years of school', 'None', nan,\n",
       "       'Up to 6 years of school', 'Uninformative response'], dtype=object)"
      ]
     },
     "execution_count": 988,
     "metadata": {},
     "output_type": "execute_result"
    }
   ],
   "source": [
    "#checking unique education values\n",
    "covidstress['edu'].unique()"
   ]
  },
  {
   "cell_type": "code",
   "execution_count": 989,
   "metadata": {},
   "outputs": [
    {
     "data": {
      "text/plain": [
       "160"
      ]
     },
     "execution_count": 989,
     "metadata": {},
     "output_type": "execute_result"
    }
   ],
   "source": [
    "#checking the null values in edu column\n",
    "covidstress['edu'].isnull().sum()"
   ]
  },
  {
   "cell_type": "code",
   "execution_count": 990,
   "metadata": {},
   "outputs": [],
   "source": [
    "#replacing null , 'None' and 'Uninformative response' options\n",
    "covidstress['edu'].fillna('Other or would rather not say', inplace=True)\n",
    "covidstress[\"edu\"]=covidstress[\"edu\"].str.replace(\"Uninformative response\",\"Other or would rather not say\")\n",
    "covidstress[\"edu\"]=covidstress[\"edu\"].str.replace(\"None\",\"Other or would rather not say\")"
   ]
  },
  {
   "cell_type": "code",
   "execution_count": 991,
   "metadata": {},
   "outputs": [
    {
     "data": {
      "text/plain": [
       "array(['Retired', 'Full time employed', 'Part time employed',\n",
       "       'Self-employed', 'Student', 'Not employed', nan], dtype=object)"
      ]
     },
     "execution_count": 991,
     "metadata": {},
     "output_type": "execute_result"
    }
   ],
   "source": [
    "#unique values for employment column\n",
    "covidstress['employment'].unique()"
   ]
  },
  {
   "cell_type": "code",
   "execution_count": 992,
   "metadata": {},
   "outputs": [
    {
     "data": {
      "text/plain": [
       "307"
      ]
     },
     "execution_count": 992,
     "metadata": {},
     "output_type": "execute_result"
    }
   ],
   "source": [
    "#checking number of null values\n",
    "covidstress['employment'].isnull().sum()"
   ]
  },
  {
   "cell_type": "code",
   "execution_count": 993,
   "metadata": {},
   "outputs": [],
   "source": [
    "#replacing null values\n",
    "covidstress['employment'].fillna('Other or would rather not say', inplace=True)"
   ]
  },
  {
   "cell_type": "code",
   "execution_count": 994,
   "metadata": {},
   "outputs": [
    {
     "data": {
      "image/png": "[encoded data removed]",
      "text/plain": [
       "<Figure size 1440x720 with 1 Axes>"
      ]
     },
     "metadata": {
      "needs_background": "light"
     },
     "output_type": "display_data"
    }
   ],
   "source": [
    "#plotting employment column counts\n",
    "plt.figure(figsize=(20,10))\n",
    "sns.countplot(covidstress[\"employment\"]);"
   ]
  },
  {
   "cell_type": "code",
   "execution_count": 995,
   "metadata": {},
   "outputs": [
    {
     "data": {
      "text/plain": [
       "array(['Italy', 'Panama', 'Argentina', 'Mexico', 'Bulgaria', 'Denmark',\n",
       "       'France', 'Bosnia and Herzegovina', 'Germany', 'Finland', 'Turkey',\n",
       "       'Estonia', 'Sweden', 'Romania', 'Lithuania', 'Brazil', 'Hungary',\n",
       "       'Norway', 'United Kingdom', 'Ecuador', 'Austria', 'Bahrain',\n",
       "       'United States', nan, 'Slovakia', 'Serbia', 'Portugal',\n",
       "       'Switzerland', 'Netherlands', 'Belgium', 'Chile', 'Korea, South',\n",
       "       'Poland', 'Spain', 'Australia', 'Israel', 'Indonesia', 'Malaysia',\n",
       "       'Russia', 'Croatia', 'Turkmenistan', 'Lebanon', 'South Africa',\n",
       "       'other', 'Greece', 'Canada', 'Morocco', 'El Salvador', 'Colombia',\n",
       "       'Venezuela', 'Czech Republic', 'Andorra', 'Bangladesh',\n",
       "       'Costa Rica', 'Ireland', 'Senegal', 'Japan', 'Philippines',\n",
       "       'Cyprus', 'Iceland', 'Luxembourg', 'Algeria', 'North Macedonia',\n",
       "       'Pakistan', 'Côte d’Ivoire', 'Armenia', 'New Zealand',\n",
       "       'Madagascar', 'Peru', 'India', 'Taiwan', 'Singapore', 'Kosovo',\n",
       "       'Afghanistan', 'Ukraine', 'United Arab Emirates', 'Djibouti',\n",
       "       'Azerbaijan', 'Qatar', 'China', 'Belize', 'Fiji', 'Ghana', 'Kenya',\n",
       "       'Saudi Arabia', 'Malta', 'Nicaragua', 'Lesotho', 'Gabon',\n",
       "       'Vietnam', 'Ethiopia', 'Burkina Faso', 'Kuwait', 'Thailand',\n",
       "       'Latvia', 'Solomon Islands', 'Uganda', 'Egypt', 'Albania',\n",
       "       'Guyana', 'Guatemala', 'Nepal', 'Slovenia', 'Georgia', 'Brunei',\n",
       "       'Jordan', 'San Marino', 'Iran', 'Zambia', 'Cambodia', 'Paraguay',\n",
       "       'Montenegro', 'Antigua and Barbuda', 'Kazakhstan', 'Uruguay',\n",
       "       'Korea, North', 'Kiribati', 'Kyrgyzstan', 'Guinea-Bissau',\n",
       "       'Liechtenstein', 'Grenada', 'Honduras', 'Mauritius',\n",
       "       'Sudan, South', 'Moldova', 'Bolivia', 'Uzbekistan', 'Suriname',\n",
       "       'Monaco', 'Tunisia', 'Belarus', 'Trinidad and Tobago', 'Tanzania',\n",
       "       'Oman', 'Somalia', 'Dominican Republic', 'Eritrea', 'Libya',\n",
       "       'Angola', 'Nigeria', 'Comoros'], dtype=object)"
      ]
     },
     "execution_count": 995,
     "metadata": {},
     "output_type": "execute_result"
    }
   ],
   "source": [
    "covidstress[\"country\"].unique()"
   ]
  },
  {
   "cell_type": "code",
   "execution_count": 996,
   "metadata": {},
   "outputs": [
    {
     "data": {
      "text/plain": [
       "Finland      8733\n",
       "France       4007\n",
       "Denmark      3980\n",
       "Japan        3699\n",
       "Lithuania    3551\n",
       "Name: country, dtype: int64"
      ]
     },
     "execution_count": 996,
     "metadata": {},
     "output_type": "execute_result"
    }
   ],
   "source": [
    "covidstress[\"country\"].value_counts().head(5)"
   ]
  },
  {
   "cell_type": "markdown",
   "metadata": {},
   "source": [
    "The top 5 countries which have the highest number of rows in our dataset are listed above. As we see, there are 8700 rows for Finland followed by 4007 rows for France. "
   ]
  },
  {
   "cell_type": "code",
   "execution_count": 997,
   "metadata": {},
   "outputs": [
    {
     "data": {
      "image/png": "[encoded data removed]",
      "text/plain": [
       "<Figure size 960x640 with 1 Axes>"
      ]
     },
     "metadata": {
      "needs_background": "light"
     },
     "output_type": "display_data"
    }
   ],
   "source": [
    "#creating a frequency plot for country column\n",
    "df = covidstress.groupby('country').size().nlargest(15).reset_index(name='counts')\n",
    "labels = df.apply(lambda x: str(x[0]) + \"\\n (\" + str(x[1]) + \")\", axis=1)\n",
    "sizes = df['counts'].values.tolist()\n",
    "colors = [plt.cm.Spectral(i/float(len(labels))) for i in range(len(labels))]\n",
    "\n",
    "plt.figure(figsize=(12,8), dpi= 80)\n",
    "plt.title(\"Frequency of country (Top 15)\")\n",
    "squarify.plot(sizes=sizes, label=labels, color=colors, alpha=.8);"
   ]
  },
  {
   "cell_type": "code",
   "execution_count": 998,
   "metadata": {},
   "outputs": [
    {
     "data": {
      "text/plain": [
       "array(['Married/cohabiting', 'Single', 'Divorced/widowed',\n",
       "       'Other or would rather not say', nan, 'Uninformative response'],\n",
       "      dtype=object)"
      ]
     },
     "execution_count": 998,
     "metadata": {},
     "output_type": "execute_result"
    }
   ],
   "source": [
    "covidstress[\"maritalstatus\"].unique()"
   ]
  },
  {
   "cell_type": "code",
   "execution_count": 999,
   "metadata": {},
   "outputs": [],
   "source": [
    "covidstress[\"maritalstatus\"]=covidstress[\"maritalstatus\"].str.replace(\"Uninformative response\",\"Other or would rather not say\")\n",
    "covidstress['maritalstatus'].fillna('Other or would rather not say', inplace=True)"
   ]
  },
  {
   "cell_type": "code",
   "execution_count": 1000,
   "metadata": {
    "scrolled": false
   },
   "outputs": [
    {
     "data": {
      "image/png": "[encoded data removed]",
      "text/plain": [
       "<Figure size 432x288 with 1 Axes>"
      ]
     },
     "metadata": {},
     "output_type": "display_data"
    }
   ],
   "source": [
    "#plt.figure(figsize = (15,5))\n",
    "#plotting a pie chart for marital status\n",
    "marstat = covidstress['maritalstatus'].value_counts()\n",
    "plt.pie(marstat,autopct='%1.1f%%',startangle=90,explode = (0,0,0,0.1),labels=marstat.index)\n",
    "plt.title('Marital Status', fontsize = 20, x = 0.5, y = 1.1);"
   ]
  },
  {
   "cell_type": "code",
   "execution_count": 1001,
   "metadata": {},
   "outputs": [
    {
     "data": {
      "text/plain": [
       "array(['No', 'Yes', nan, 'Not sure'], dtype=object)"
      ]
     },
     "execution_count": 1001,
     "metadata": {},
     "output_type": "execute_result"
    }
   ],
   "source": [
    "covidstress['riskgroup'].unique()"
   ]
  },
  {
   "cell_type": "code",
   "execution_count": 1002,
   "metadata": {},
   "outputs": [],
   "source": [
    "covidstress['riskgroup'].fillna('Not sure', inplace=True)"
   ]
  },
  {
   "cell_type": "code",
   "execution_count": 1003,
   "metadata": {},
   "outputs": [
    {
     "data": {
      "image/png": "[encoded data removed]",
      "text/plain": [
       "<Figure size 432x288 with 1 Axes>"
      ]
     },
     "metadata": {
      "needs_background": "light"
     },
     "output_type": "display_data"
    }
   ],
   "source": [
    "#plt.figure(figsize=(20,10))\n",
    "sns.countplot(covidstress[\"riskgroup\"]);"
   ]
  },
  {
   "cell_type": "code",
   "execution_count": 1004,
   "metadata": {},
   "outputs": [
    {
     "data": {
      "text/plain": [
       "array([1, 3, 2, 4, 5], dtype=int64)"
      ]
     },
     "execution_count": 1004,
     "metadata": {},
     "output_type": "execute_result"
    }
   ],
   "source": [
    "covidstress['perceived_stress_1'].unique()"
   ]
  },
  {
   "cell_type": "code",
   "execution_count": 1005,
   "metadata": {},
   "outputs": [
    {
     "data": {
      "text/plain": [
       "array([5, 2, 1, 4, 3, 6], dtype=int64)"
      ]
     },
     "execution_count": 1005,
     "metadata": {},
     "output_type": "execute_result"
    }
   ],
   "source": [
    "covidstress['corona_concerns_1'].unique()"
   ]
  },
  {
   "cell_type": "code",
   "execution_count": 1006,
   "metadata": {},
   "outputs": [
    {
     "data": {
      "text/plain": [
       "array([3, 4, 5, 2, 6, 1], dtype=int64)"
      ]
     },
     "execution_count": 1006,
     "metadata": {},
     "output_type": "execute_result"
    }
   ],
   "source": [
    "covidstress['distress_1'].unique()"
   ]
  },
  {
   "cell_type": "code",
   "execution_count": 1007,
   "metadata": {},
   "outputs": [
    {
     "data": {
      "text/plain": [
       "array([5, 6, 4, 3, 2, 1], dtype=int64)"
      ]
     },
     "execution_count": 1007,
     "metadata": {},
     "output_type": "execute_result"
    }
   ],
   "source": [
    "covidstress['social_support_1'].unique()"
   ]
  },
  {
   "cell_type": "code",
   "execution_count": 1008,
   "metadata": {},
   "outputs": [],
   "source": [
    "#taking a mean for each question category\n",
    "covidstress['perceived_stress_avg'] = covidstress.iloc[:,10:15].mean(axis=1).round(2)\n",
    "covidstress['corona_concerns_avg'] = covidstress.iloc[:,15:20].mean(axis=1).round(2)\n",
    "covidstress['distress_avg'] = covidstress.iloc[:,20:26].mean(axis=1).round(2)\n",
    "covidstress['social_support_avg'] = covidstress.iloc[:,26:29].mean(axis=1).round(2)"
   ]
  },
  {
   "cell_type": "code",
   "execution_count": 1009,
   "metadata": {},
   "outputs": [],
   "source": [
    "#converting all values into a 10 point scale for readability and further analysis\n",
    "covidstress['perceived_stress_avg'] = covidstress['perceived_stress_avg']*2\n",
    "covidstress['corona_concerns_avg'] = covidstress['corona_concerns_avg']*(5/3)\n",
    "covidstress['distress_avg'] = covidstress['distress_avg']*(5/3)\n",
    "covidstress['social_support_avg'] = covidstress['social_support_avg']*(5/3)"
   ]
  },
  {
   "cell_type": "code",
   "execution_count": 1010,
   "metadata": {},
   "outputs": [
    {
     "data": {
      "image/png": "[encoded data removed]",
      "text/plain": [
       "<Figure size 1080x720 with 6 Axes>"
      ]
     },
     "metadata": {
      "needs_background": "light"
     },
     "output_type": "display_data"
    }
   ],
   "source": [
    "#Plotting relationships between all average columns\n",
    "fig = plt.figure(figsize=(15,10))\n",
    "ax = fig.add_subplot(2, 3, 1)\n",
    "sns.lineplot(x=\"perceived_stress_avg\", y=\"corona_concerns_avg\", data=covidstress,ax=ax)\n",
    "ax = fig.add_subplot(2, 3, 2)\n",
    "sns.lineplot(x=\"perceived_stress_avg\", y=\"distress_avg\", data=covidstress,ax=ax)\n",
    "ax = fig.add_subplot(2, 3, 3)\n",
    "sns.lineplot(x=\"perceived_stress_avg\", y=\"social_support_avg\", data=covidstress,ax=ax)\n",
    "ax = fig.add_subplot(2, 3, 4)\n",
    "sns.lineplot(x=\"corona_concerns_avg\", y=\"distress_avg\", data=covidstress,ax=ax)\n",
    "ax = fig.add_subplot(2, 3, 5)\n",
    "sns.lineplot(x=\"corona_concerns_avg\", y=\"social_support_avg\", data=covidstress,ax=ax)\n",
    "ax = fig.add_subplot(2, 3, 6)\n",
    "sns.lineplot(x=\"distress_avg\", y=\"social_support_avg\", data=covidstress,ax=ax)\n",
    "plt.show()"
   ]
  },
  {
   "cell_type": "markdown",
   "metadata": {},
   "source": [
    "In the perceived stress questions, the answer value 1 (NEVER) corresponds to never stressed and answer value 5 (ALWAYS) corresponds to very stressed. So the average value for each user will help us to identify where they stand in the range. An average value closer to 5 would mean they have extreme stress and a value closer to 1 would mean they are not stressed at all.\n",
    "\n",
    "In the same way, the answer value 1 (STRONGLY DISAGREE) of corona concerns questions mean that the survey taker is not concerned but the value 6 (STRONGLY AGREE) means that they are extremely concerned about coronavirus. An average value closer to 6 would mean that they are extremely concerned.\n",
    "\n",
    "Next, in the distress questions, the answer 1 (STRONGLY DISAGREE) corresponds to the survey taker not being distressed and the value 6 (STRONGLY AGREE) means that they are very distressed. An average value closer to 6 would mean that they are extremely distressed.\n",
    "\n",
    "Lastly, for the social support questions, the value 1 (STRONGLY DISAGREE) means that the user does not have any social contacts for support and the value 6 (STRONGLY AGREE) means that they have people they can count on. An average value closer to 6 means that they have social support in their life and a value closer to 1 would mean they are lacking in social support."
   ]
  },
  {
   "cell_type": "code",
   "execution_count": 1011,
   "metadata": {},
   "outputs": [],
   "source": [
    "#creating a new column for average of the 3 columns: perceived_stress_avg, corona_concerns_avg, distress_avg\n",
    "covidstress['ps_cc_dis_avg'] = covidstress.iloc[:,29:32].mean(axis=1).round(2)"
   ]
  },
  {
   "cell_type": "code",
   "execution_count": 1012,
   "metadata": {},
   "outputs": [
    {
     "data": {
      "text/html": [
       "<div>\n",
       "<style scoped>\n",
       "    .dataframe tbody tr th:only-of-type {\n",
       "        vertical-align: middle;\n",
       "    }\n",
       "\n",
       "    .dataframe tbody tr th {\n",
       "        vertical-align: top;\n",
       "    }\n",
       "\n",
       "    .dataframe thead th {\n",
       "        text-align: right;\n",
       "    }\n",
       "</style>\n",
       "<table border=\"1\" class=\"dataframe\">\n",
       "  <thead>\n",
       "    <tr style=\"text-align: right;\">\n",
       "      <th></th>\n",
       "      <th>id</th>\n",
       "      <th>duration_in_seconds</th>\n",
       "      <th>age</th>\n",
       "      <th>perceived_stress_1</th>\n",
       "      <th>perceived_stress_2</th>\n",
       "      <th>perceived_stress_3</th>\n",
       "      <th>perceived_stress_4</th>\n",
       "      <th>perceived_stress_5</th>\n",
       "      <th>corona_concerns_1</th>\n",
       "      <th>corona_concerns_2</th>\n",
       "      <th>...</th>\n",
       "      <th>distress_5</th>\n",
       "      <th>distress_6</th>\n",
       "      <th>social_support_1</th>\n",
       "      <th>social_support_2</th>\n",
       "      <th>social_support_3</th>\n",
       "      <th>perceived_stress_avg</th>\n",
       "      <th>corona_concerns_avg</th>\n",
       "      <th>distress_avg</th>\n",
       "      <th>social_support_avg</th>\n",
       "      <th>ps_cc_dis_avg</th>\n",
       "    </tr>\n",
       "  </thead>\n",
       "  <tbody>\n",
       "    <tr>\n",
       "      <th>count</th>\n",
       "      <td>44126.000000</td>\n",
       "      <td>44126.000000</td>\n",
       "      <td>44126.000000</td>\n",
       "      <td>44126.000000</td>\n",
       "      <td>44126.000000</td>\n",
       "      <td>44126.000000</td>\n",
       "      <td>44126.000000</td>\n",
       "      <td>44126.000000</td>\n",
       "      <td>44126.000000</td>\n",
       "      <td>44126.000000</td>\n",
       "      <td>...</td>\n",
       "      <td>44126.000000</td>\n",
       "      <td>44126.000000</td>\n",
       "      <td>44126.000000</td>\n",
       "      <td>44126.000000</td>\n",
       "      <td>44126.000000</td>\n",
       "      <td>44126.000000</td>\n",
       "      <td>44126.000000</td>\n",
       "      <td>44126.000000</td>\n",
       "      <td>44126.000000</td>\n",
       "      <td>44126.000000</td>\n",
       "    </tr>\n",
       "    <tr>\n",
       "      <th>mean</th>\n",
       "      <td>62864.467842</td>\n",
       "      <td>2195.814667</td>\n",
       "      <td>42.117459</td>\n",
       "      <td>2.525903</td>\n",
       "      <td>3.004374</td>\n",
       "      <td>2.643430</td>\n",
       "      <td>3.608145</td>\n",
       "      <td>2.525631</td>\n",
       "      <td>4.101663</td>\n",
       "      <td>4.727372</td>\n",
       "      <td>...</td>\n",
       "      <td>4.430381</td>\n",
       "      <td>2.956602</td>\n",
       "      <td>5.029620</td>\n",
       "      <td>4.982754</td>\n",
       "      <td>5.039025</td>\n",
       "      <td>5.722993</td>\n",
       "      <td>7.593210</td>\n",
       "      <td>5.741814</td>\n",
       "      <td>8.362180</td>\n",
       "      <td>6.352685</td>\n",
       "    </tr>\n",
       "    <tr>\n",
       "      <th>std</th>\n",
       "      <td>35681.007869</td>\n",
       "      <td>7499.269461</td>\n",
       "      <td>12.252703</td>\n",
       "      <td>1.071283</td>\n",
       "      <td>1.098669</td>\n",
       "      <td>1.099366</td>\n",
       "      <td>0.974734</td>\n",
       "      <td>1.210703</td>\n",
       "      <td>1.436063</td>\n",
       "      <td>1.228724</td>\n",
       "      <td>...</td>\n",
       "      <td>1.360900</td>\n",
       "      <td>1.551268</td>\n",
       "      <td>1.064134</td>\n",
       "      <td>1.141262</td>\n",
       "      <td>1.063308</td>\n",
       "      <td>1.243039</td>\n",
       "      <td>1.623475</td>\n",
       "      <td>1.636017</td>\n",
       "      <td>1.626897</td>\n",
       "      <td>1.137338</td>\n",
       "    </tr>\n",
       "    <tr>\n",
       "      <th>min</th>\n",
       "      <td>6.000000</td>\n",
       "      <td>146.000000</td>\n",
       "      <td>18.000000</td>\n",
       "      <td>1.000000</td>\n",
       "      <td>1.000000</td>\n",
       "      <td>1.000000</td>\n",
       "      <td>1.000000</td>\n",
       "      <td>1.000000</td>\n",
       "      <td>1.000000</td>\n",
       "      <td>1.000000</td>\n",
       "      <td>...</td>\n",
       "      <td>1.000000</td>\n",
       "      <td>1.000000</td>\n",
       "      <td>1.000000</td>\n",
       "      <td>1.000000</td>\n",
       "      <td>1.000000</td>\n",
       "      <td>2.000000</td>\n",
       "      <td>1.666667</td>\n",
       "      <td>1.666667</td>\n",
       "      <td>1.666667</td>\n",
       "      <td>1.780000</td>\n",
       "    </tr>\n",
       "    <tr>\n",
       "      <th>25%</th>\n",
       "      <td>32697.500000</td>\n",
       "      <td>848.000000</td>\n",
       "      <td>33.000000</td>\n",
       "      <td>2.000000</td>\n",
       "      <td>2.000000</td>\n",
       "      <td>2.000000</td>\n",
       "      <td>3.000000</td>\n",
       "      <td>1.000000</td>\n",
       "      <td>3.000000</td>\n",
       "      <td>4.000000</td>\n",
       "      <td>...</td>\n",
       "      <td>4.000000</td>\n",
       "      <td>2.000000</td>\n",
       "      <td>5.000000</td>\n",
       "      <td>5.000000</td>\n",
       "      <td>5.000000</td>\n",
       "      <td>4.800000</td>\n",
       "      <td>6.666667</td>\n",
       "      <td>4.716667</td>\n",
       "      <td>7.783333</td>\n",
       "      <td>5.620000</td>\n",
       "    </tr>\n",
       "    <tr>\n",
       "      <th>50%</th>\n",
       "      <td>60238.000000</td>\n",
       "      <td>1100.000000</td>\n",
       "      <td>42.000000</td>\n",
       "      <td>3.000000</td>\n",
       "      <td>3.000000</td>\n",
       "      <td>3.000000</td>\n",
       "      <td>4.000000</td>\n",
       "      <td>2.000000</td>\n",
       "      <td>4.000000</td>\n",
       "      <td>5.000000</td>\n",
       "      <td>...</td>\n",
       "      <td>5.000000</td>\n",
       "      <td>3.000000</td>\n",
       "      <td>5.000000</td>\n",
       "      <td>5.000000</td>\n",
       "      <td>5.000000</td>\n",
       "      <td>5.600000</td>\n",
       "      <td>8.000000</td>\n",
       "      <td>5.833333</td>\n",
       "      <td>8.333333</td>\n",
       "      <td>6.390000</td>\n",
       "    </tr>\n",
       "    <tr>\n",
       "      <th>75%</th>\n",
       "      <td>93980.750000</td>\n",
       "      <td>1521.000000</td>\n",
       "      <td>50.000000</td>\n",
       "      <td>3.000000</td>\n",
       "      <td>4.000000</td>\n",
       "      <td>3.000000</td>\n",
       "      <td>4.000000</td>\n",
       "      <td>3.000000</td>\n",
       "      <td>5.000000</td>\n",
       "      <td>6.000000</td>\n",
       "      <td>...</td>\n",
       "      <td>6.000000</td>\n",
       "      <td>4.000000</td>\n",
       "      <td>6.000000</td>\n",
       "      <td>6.000000</td>\n",
       "      <td>6.000000</td>\n",
       "      <td>6.400000</td>\n",
       "      <td>8.666667</td>\n",
       "      <td>6.950000</td>\n",
       "      <td>10.000000</td>\n",
       "      <td>7.140000</td>\n",
       "    </tr>\n",
       "    <tr>\n",
       "      <th>max</th>\n",
       "      <td>125300.000000</td>\n",
       "      <td>406197.000000</td>\n",
       "      <td>110.000000</td>\n",
       "      <td>5.000000</td>\n",
       "      <td>5.000000</td>\n",
       "      <td>5.000000</td>\n",
       "      <td>5.000000</td>\n",
       "      <td>5.000000</td>\n",
       "      <td>6.000000</td>\n",
       "      <td>6.000000</td>\n",
       "      <td>...</td>\n",
       "      <td>6.000000</td>\n",
       "      <td>6.000000</td>\n",
       "      <td>6.000000</td>\n",
       "      <td>6.000000</td>\n",
       "      <td>6.000000</td>\n",
       "      <td>10.000000</td>\n",
       "      <td>10.000000</td>\n",
       "      <td>10.000000</td>\n",
       "      <td>10.000000</td>\n",
       "      <td>10.000000</td>\n",
       "    </tr>\n",
       "  </tbody>\n",
       "</table>\n",
       "<p>8 rows × 27 columns</p>\n",
       "</div>"
      ],
      "text/plain": [
       "                  id  duration_in_seconds           age  perceived_stress_1  \\\n",
       "count   44126.000000         44126.000000  44126.000000        44126.000000   \n",
       "mean    62864.467842          2195.814667     42.117459            2.525903   \n",
       "std     35681.007869          7499.269461     12.252703            1.071283   \n",
       "min         6.000000           146.000000     18.000000            1.000000   \n",
       "25%     32697.500000           848.000000     33.000000            2.000000   \n",
       "50%     60238.000000          1100.000000     42.000000            3.000000   \n",
       "75%     93980.750000          1521.000000     50.000000            3.000000   \n",
       "max    125300.000000        406197.000000    110.000000            5.000000   \n",
       "\n",
       "       perceived_stress_2  perceived_stress_3  perceived_stress_4  \\\n",
       "count        44126.000000        44126.000000        44126.000000   \n",
       "mean             3.004374            2.643430            3.608145   \n",
       "std              1.098669            1.099366            0.974734   \n",
       "min              1.000000            1.000000            1.000000   \n",
       "25%              2.000000            2.000000            3.000000   \n",
       "50%              3.000000            3.000000            4.000000   \n",
       "75%              4.000000            3.000000            4.000000   \n",
       "max              5.000000            5.000000            5.000000   \n",
       "\n",
       "       perceived_stress_5  corona_concerns_1  corona_concerns_2  ...  \\\n",
       "count        44126.000000       44126.000000       44126.000000  ...   \n",
       "mean             2.525631           4.101663           4.727372  ...   \n",
       "std              1.210703           1.436063           1.228724  ...   \n",
       "min              1.000000           1.000000           1.000000  ...   \n",
       "25%              1.000000           3.000000           4.000000  ...   \n",
       "50%              2.000000           4.000000           5.000000  ...   \n",
       "75%              3.000000           5.000000           6.000000  ...   \n",
       "max              5.000000           6.000000           6.000000  ...   \n",
       "\n",
       "         distress_5    distress_6  social_support_1  social_support_2  \\\n",
       "count  44126.000000  44126.000000      44126.000000      44126.000000   \n",
       "mean       4.430381      2.956602          5.029620          4.982754   \n",
       "std        1.360900      1.551268          1.064134          1.141262   \n",
       "min        1.000000      1.000000          1.000000          1.000000   \n",
       "25%        4.000000      2.000000          5.000000          5.000000   \n",
       "50%        5.000000      3.000000          5.000000          5.000000   \n",
       "75%        6.000000      4.000000          6.000000          6.000000   \n",
       "max        6.000000      6.000000          6.000000          6.000000   \n",
       "\n",
       "       social_support_3  perceived_stress_avg  corona_concerns_avg  \\\n",
       "count      44126.000000          44126.000000         44126.000000   \n",
       "mean           5.039025              5.722993             7.593210   \n",
       "std            1.063308              1.243039             1.623475   \n",
       "min            1.000000              2.000000             1.666667   \n",
       "25%            5.000000              4.800000             6.666667   \n",
       "50%            5.000000              5.600000             8.000000   \n",
       "75%            6.000000              6.400000             8.666667   \n",
       "max            6.000000             10.000000            10.000000   \n",
       "\n",
       "       distress_avg  social_support_avg  ps_cc_dis_avg  \n",
       "count  44126.000000        44126.000000   44126.000000  \n",
       "mean       5.741814            8.362180       6.352685  \n",
       "std        1.636017            1.626897       1.137338  \n",
       "min        1.666667            1.666667       1.780000  \n",
       "25%        4.716667            7.783333       5.620000  \n",
       "50%        5.833333            8.333333       6.390000  \n",
       "75%        6.950000           10.000000       7.140000  \n",
       "max       10.000000           10.000000      10.000000  \n",
       "\n",
       "[8 rows x 27 columns]"
      ]
     },
     "execution_count": 1012,
     "metadata": {},
     "output_type": "execute_result"
    }
   ],
   "source": [
    "#taking a look at the mean values for all columns\n",
    "covidstress.describe()"
   ]
  },
  {
   "cell_type": "markdown",
   "metadata": {},
   "source": [
    "We can see the mean values for all answer columns above. Now to create a new column 'mental_health_risk', we are using the last two columns: 'social_support_avg' and 'ps_cc_dis_avg' as well as 'riskgroup' column. The mean of the social support column is 8.3 and the mean of the ps_cc_dis_avg column is 6.3. \n",
    "\n",
    "We are defining 4 categories of mental helath risk: No Risk, Low Risk, Medium Risk and High Risk. In order to find out which user falls under what category, we have total 8 conditions, which are shown in code below.\n",
    "\n",
    "We are using the mean values of the columns social_support_avg and ps_cc_dis_avg in our conditions as our thresholds."
   ]
  },
  {
   "cell_type": "code",
   "execution_count": 1013,
   "metadata": {},
   "outputs": [],
   "source": [
    "#creating a list of our conditions\n",
    "conditions = [\n",
    "    ((covidstress['riskgroup'] == 'No') | (covidstress['riskgroup'] == 'Not sure')) & (covidstress['ps_cc_dis_avg'] <= 6) & (covidstress['social_support_avg'] > 8),\n",
    "    (((covidstress['riskgroup'] == 'No') | (covidstress['riskgroup'] == 'Not sure'))  & (covidstress['ps_cc_dis_avg'] <= 6) & (covidstress['social_support_avg'] <= 8)) | (((covidstress['riskgroup'] == 'No') | (covidstress['riskgroup'] == 'Not sure')) & (covidstress['ps_cc_dis_avg'] > 6) & (covidstress['social_support_avg'] > 8)) | ((covidstress['riskgroup'] == 'Yes') & (covidstress['ps_cc_dis_avg'] <= 6) & (covidstress['social_support_avg'] > 8)),\n",
    "    (((covidstress['riskgroup'] == 'No') | (covidstress['riskgroup'] == 'Not sure')) & (covidstress['ps_cc_dis_avg'] > 6) & (covidstress['social_support_avg'] <= 8)) | ((covidstress['riskgroup'] == 'Yes') & (covidstress['ps_cc_dis_avg'] <= 6) & (covidstress['social_support_avg'] <= 8)) | ((covidstress['riskgroup'] == 'Yes') & (covidstress['ps_cc_dis_avg'] > 6) & (covidstress['social_support_avg'] > 8)),\n",
    "    (covidstress['riskgroup'] == 'Yes') & (covidstress['ps_cc_dis_avg'] > 6) & (covidstress['social_support_avg'] <= 8)\n",
    "    ]\n",
    "\n",
    "# creating a list of the values we want to assign for each condition\n",
    "values = ['No Risk', 'Low Risk', 'Medium Risk', 'High Risk']\n",
    "\n",
    "# creating a new column and using np.select to assign values to it using our lists as arguments\n",
    "covidstress['mental_health_risk'] = np.select(conditions, values)\n",
    "covidstress = covidstress.round(2)"
   ]
  },
  {
   "cell_type": "code",
   "execution_count": 1014,
   "metadata": {},
   "outputs": [
    {
     "data": {
      "text/plain": [
       "Medium Risk    19135\n",
       "Low Risk       15097\n",
       "High Risk       5661\n",
       "No Risk         4233\n",
       "Name: mental_health_risk, dtype: int64"
      ]
     },
     "execution_count": 1014,
     "metadata": {},
     "output_type": "execute_result"
    }
   ],
   "source": [
    "#taking a look at the number of rows for each risk category\n",
    "covidstress['mental_health_risk'].value_counts()"
   ]
  },
  {
   "cell_type": "code",
   "execution_count": 1015,
   "metadata": {},
   "outputs": [
    {
     "data": {
      "image/png": "[encoded data removed]",
      "text/plain": [
       "<Figure size 432x288 with 1 Axes>"
      ]
     },
     "metadata": {},
     "output_type": "display_data"
    }
   ],
   "source": [
    "#Plotting each risk category\n",
    "colors = ['yellowgreen', 'gold', 'lightskyblue', 'lightcoral']\n",
    "mhealth = covidstress['mental_health_risk'].value_counts()\n",
    "plt.pie(mhealth,autopct='%1.1f%%',startangle=90,labels= mhealth.index,colors=colors)\n",
    "plt.title('Mental Health Risk', fontsize = 15);"
   ]
  },
  {
   "cell_type": "code",
   "execution_count": 1016,
   "metadata": {},
   "outputs": [],
   "source": [
    "#function to calculate p-value and chi square values\n",
    "def chifunc(table):\n",
    "    \n",
    "    stat, p, dof, expected = chi2_contingency(table)\n",
    "    print(\"Results for \",str(table))\n",
    "    # interpret test-statistic\n",
    "    prob = 0.95\n",
    "    critical = chi2.ppf(prob, dof)\n",
    "    if abs(stat) >= critical:\n",
    "        print('Dependent (reject H0): chi-square value -',stat)\n",
    "    else:\n",
    "        print('Independent (fail to reject H0): chi-square value -',stat)\n",
    "\n",
    "    # interpret p-value\n",
    "    alpha = 1.0 - prob\n",
    "    if p <= alpha:\n",
    "        print('Dependent (reject H0): p-value -',p)\n",
    "    else:\n",
    "        print('Independent (fail to reject H0): p-value -',p)"
   ]
  },
  {
   "cell_type": "code",
   "execution_count": 1017,
   "metadata": {},
   "outputs": [],
   "source": [
    "#Contingency Table for mental_health_risk and gender columns\n",
    "data_crosstab = pd.crosstab(covidstress['mental_health_risk'], \n",
    "                            covidstress['gender'],  \n",
    "                               margins = False) "
   ]
  },
  {
   "cell_type": "code",
   "execution_count": 1018,
   "metadata": {},
   "outputs": [
    {
     "name": "stdout",
     "output_type": "stream",
     "text": [
      "Results for  gender              Female  Male  Other/would rather not say\n",
      "mental_health_risk                                          \n",
      "High Risk             3845  1753                          63\n",
      "Low Risk              9646  5269                         182\n",
      "Medium Risk          13391  5571                         173\n",
      "No Risk               2443  1760                          30\n",
      "Dependent (reject H0): chi-square value - 318.90937305549016\n",
      "Dependent (reject H0): p-value - 7.234378261298765e-66\n"
     ]
    }
   ],
   "source": [
    "#looking at the relationship between the gender and the mental_health_risk columns\n",
    "chifunc(data_crosstab)"
   ]
  },
  {
   "cell_type": "code",
   "execution_count": 1019,
   "metadata": {},
   "outputs": [
    {
     "name": "stdout",
     "output_type": "stream",
     "text": [
      "Results for  mental_health_risk                                  High Risk  Low Risk  \\\n",
      "edu                                                                       \n",
      "College degree, bachelor, master                         3061      8190   \n",
      "Other or would rather not say                             123       231   \n",
      "PhD/Doctorate                                             440      1679   \n",
      "Some College, short continuing education or equ...       1162      3058   \n",
      "Up to 12 years of school                                  686      1466   \n",
      "Up to 6 years of school                                    97       254   \n",
      "Up to 9 years of school                                    92       219   \n",
      "\n",
      "mental_health_risk                                  Medium Risk  No Risk  \n",
      "edu                                                                       \n",
      "College degree, bachelor, master                          10507     2328  \n",
      "Other or would rather not say                               358       34  \n",
      "PhD/Doctorate                                              1967      481  \n",
      "Some College, short continuing education or equ...         3741      932  \n",
      "Up to 12 years of school                                   1956      346  \n",
      "Up to 6 years of school                                     317       59  \n",
      "Up to 9 years of school                                     289       53  \n",
      "Dependent (reject H0): chi-square value - 140.46422840788614\n",
      "Dependent (reject H0): p-value - 5.211964836045445e-21\n"
     ]
    }
   ],
   "source": [
    "#Contingency Table for mental_health_risk and education columns\n",
    "data_crosstab2 = pd.crosstab(covidstress['edu'],  \n",
    "                             covidstress['mental_health_risk'], margins = False) \n",
    "#looking at the relationship between the education and the mental_health_risk columns\n",
    "chifunc(data_crosstab2)"
   ]
  },
  {
   "cell_type": "code",
   "execution_count": 1020,
   "metadata": {},
   "outputs": [
    {
     "name": "stdout",
     "output_type": "stream",
     "text": [
      "Results for  maritalstatus       Divorced/widowed  Married/cohabiting  \\\n",
      "mental_health_risk                                         \n",
      "High Risk                        743                3106   \n",
      "Low Risk                        1268               10306   \n",
      "Medium Risk                     1814               12491   \n",
      "No Risk                          314                3025   \n",
      "\n",
      "maritalstatus       Other or would rather not say  Single  \n",
      "mental_health_risk                                         \n",
      "High Risk                                     228    1584  \n",
      "Low Risk                                      520    3003  \n",
      "Medium Risk                                   626    4204  \n",
      "No Risk                                       124     770  \n",
      "Dependent (reject H0): chi-square value - 416.91698942188964\n",
      "Dependent (reject H0): p-value - 3.3563575897652015e-84\n"
     ]
    }
   ],
   "source": [
    "#Contingency Table for mental_health_risk and marital status columns\n",
    "data_crosstab3 = pd.crosstab(covidstress['mental_health_risk'],  \n",
    "                             covidstress['maritalstatus'], margins = False) \n",
    "#looking at the relationship between the marital status and the mental_health_risk columns\n",
    "chifunc(data_crosstab3)"
   ]
  },
  {
   "cell_type": "code",
   "execution_count": 1021,
   "metadata": {},
   "outputs": [
    {
     "name": "stdout",
     "output_type": "stream",
     "text": [
      "Results for  mental_health_risk             High Risk  Low Risk  Medium Risk  No Risk\n",
      "employment                                                              \n",
      "Full time employed                  2690      8194         9833     2427\n",
      "Not employed                         670      1051         1718      259\n",
      "Other or would rather not say         45        96          135       31\n",
      "Part time employed                   668      1488         2060      407\n",
      "Retired                              306      1004         1014      210\n",
      "Self-employed                        673      1769         2435      475\n",
      "Student                              609      1495         1940      424\n",
      "Dependent (reject H0): chi-square value - 279.0694277473037\n",
      "Dependent (reject H0): p-value - 9.510987478812454e-49\n"
     ]
    }
   ],
   "source": [
    "#Contingency Table for mental_health_risk and employment columns\n",
    "data_crosstab4 = pd.crosstab(covidstress['employment'],  \n",
    "                             covidstress['mental_health_risk'], margins = False) \n",
    "#looking at the relationship between the employment and the mental_health_risk columns\n",
    "chifunc(data_crosstab4)"
   ]
  },
  {
   "cell_type": "code",
   "execution_count": 1022,
   "metadata": {},
   "outputs": [],
   "source": [
    "stress_perc = (covidstress[covidstress['perceived_stress_avg'] > 6].id.count()/covidstress.id.count()) * 100\n",
    "stress_perc = stress_perc.round(2)\n",
    "corona_concern_perc = (covidstress[covidstress['corona_concerns_avg'] > 6].id.count()/covidstress.id.count()) * 100\n",
    "corona_concern_perc = corona_concern_perc.round(2)\n",
    "distress_perc = (covidstress[covidstress['distress_avg'] > 6].id.count()/covidstress.id.count()) * 100\n",
    "distress_perc = distress_perc.round(2)\n",
    "social_perc = (covidstress[covidstress['social_support_avg'] <= 8].id.count()/covidstress.id.count()) * 100\n",
    "social_perc = social_perc.round(2)"
   ]
  },
  {
   "cell_type": "code",
   "execution_count": 1023,
   "metadata": {},
   "outputs": [
    {
     "name": "stdout",
     "output_type": "stream",
     "text": [
      "% of total users who are stressed: 34.53\n",
      "% of total users who have coronavirus concerns: 82.52\n",
      "% of total users who are distressed: 44.65\n",
      "% of total users who do not have social support: 30.36\n"
     ]
    }
   ],
   "source": [
    "print(\"% of total users who are stressed:\", stress_perc)\n",
    "print(\"% of total users who have coronavirus concerns:\", corona_concern_perc)\n",
    "print(\"% of total users who are distressed:\", distress_perc)\n",
    "print(\"% of total users who do not have social support:\", social_perc)"
   ]
  },
  {
   "cell_type": "code",
   "execution_count": 1024,
   "metadata": {},
   "outputs": [],
   "source": [
    "#creating a new dataframe for only high risk users\n",
    "high_risk = covidstress[covidstress['mental_health_risk']=='High Risk']"
   ]
  },
  {
   "cell_type": "code",
   "execution_count": 1025,
   "metadata": {},
   "outputs": [],
   "source": [
    "stress_perc = (high_risk[high_risk['perceived_stress_avg'] > 6].id.count()/high_risk.id.count()) * 100\n",
    "stress_perc = stress_perc.round(2)\n",
    "corona_concern_perc = (high_risk[high_risk['corona_concerns_avg'] > 6].id.count()/high_risk.id.count()) * 100\n",
    "corona_concern_perc = corona_concern_perc.round(2)\n",
    "distress_perc = (high_risk[high_risk['distress_avg'] > 6].id.count()/high_risk.id.count()) * 100\n",
    "distress_perc = distress_perc.round(2)\n",
    "social_perc = (high_risk[high_risk['social_support_avg'] <= 8].id.count()/high_risk.id.count()) * 100\n",
    "social_perc = social_perc.round(2)"
   ]
  },
  {
   "cell_type": "code",
   "execution_count": 1026,
   "metadata": {},
   "outputs": [
    {
     "name": "stdout",
     "output_type": "stream",
     "text": [
      "% of high risk users who are stressed: 59.14\n",
      "% of high risk users who have coronavirus concerns: 95.74\n",
      "% of high risk users who are distressed: 73.13\n",
      "% of high risk users who do not have social support: 100.0\n"
     ]
    }
   ],
   "source": [
    "print(\"% of high risk users who are stressed:\", stress_perc)\n",
    "print(\"% of high risk users who have coronavirus concerns:\", corona_concern_perc)\n",
    "print(\"% of high risk users who are distressed:\", distress_perc)\n",
    "print(\"% of high risk users who do not have social support:\", social_perc)"
   ]
  },
  {
   "cell_type": "code",
   "execution_count": 1027,
   "metadata": {},
   "outputs": [],
   "source": [
    "#creating a new datafrae for only medium risk users\n",
    "med_risk = covidstress[covidstress['mental_health_risk']=='Medium Risk']"
   ]
  },
  {
   "cell_type": "code",
   "execution_count": 1028,
   "metadata": {},
   "outputs": [],
   "source": [
    "stress_perc = (med_risk[med_risk['perceived_stress_avg'] > 6].id.count()/med_risk.id.count()) * 100\n",
    "stress_perc = stress_perc.round(2)\n",
    "corona_concern_perc = (med_risk[med_risk['corona_concerns_avg'] > 6].id.count()/med_risk.id.count()) * 100\n",
    "corona_concern_perc = corona_concern_perc.round(2)\n",
    "distress_perc = (med_risk[med_risk['distress_avg'] > 6].id.count()/med_risk.id.count()) * 100\n",
    "distress_perc = distress_perc.round(2)\n",
    "social_perc = (med_risk[med_risk['social_support_avg'] <= 8].id.count()/med_risk.id.count()) * 100\n",
    "social_perc = social_perc.round(2)"
   ]
  },
  {
   "cell_type": "code",
   "execution_count": 1029,
   "metadata": {},
   "outputs": [
    {
     "name": "stdout",
     "output_type": "stream",
     "text": [
      "% of medium risk users who are stressed: 43.94\n",
      "% of medium risk users who have coronavirus concerns: 92.17\n",
      "% of medium risk users who are distressed: 58.45\n",
      "% of medium risk users who do not have social support: 29.81\n"
     ]
    }
   ],
   "source": [
    "print(\"% of medium risk users who are stressed:\", stress_perc)\n",
    "print(\"% of medium risk users who have coronavirus concerns:\", corona_concern_perc)\n",
    "print(\"% of medium risk users who are distressed:\", distress_perc)\n",
    "print(\"% of medium risk users who do not have social support:\", social_perc)"
   ]
  },
  {
   "cell_type": "code",
   "execution_count": 1030,
   "metadata": {},
   "outputs": [],
   "source": [
    "#creating a new datafrae for only low risk users\n",
    "low_risk = covidstress[covidstress['mental_health_risk']=='Low Risk']"
   ]
  },
  {
   "cell_type": "code",
   "execution_count": 1031,
   "metadata": {},
   "outputs": [],
   "source": [
    "stress_perc = (low_risk[low_risk['perceived_stress_avg'] > 6].id.count()/low_risk.id.count()) * 100\n",
    "stress_perc = stress_perc.round(2)\n",
    "corona_concern_perc = (low_risk[low_risk['corona_concerns_avg'] > 6].id.count()/low_risk.id.count()) * 100\n",
    "corona_concern_perc = corona_concern_perc.round(2)\n",
    "distress_perc = (low_risk[low_risk['distress_avg'] > 6].id.count()/low_risk.id.count()) * 100\n",
    "distress_perc = distress_perc.round(2)\n",
    "social_perc = (low_risk[low_risk['social_support_avg'] <= 8].id.count()/low_risk.id.count()) * 100\n",
    "social_perc = social_perc.round(2)"
   ]
  },
  {
   "cell_type": "code",
   "execution_count": 1032,
   "metadata": {},
   "outputs": [
    {
     "name": "stdout",
     "output_type": "stream",
     "text": [
      "% of low risk users who are stressed: 20.97\n",
      "% of low risk users who have coronavirus concerns: 73.28\n",
      "% of low risk users who are distressed: 26.99\n",
      "% of low risk users who do not have social support: 13.45\n"
     ]
    }
   ],
   "source": [
    "print(\"% of low risk users who are stressed:\", stress_perc)\n",
    "print(\"% of low risk users who have coronavirus concerns:\", corona_concern_perc)\n",
    "print(\"% of low risk users who are distressed:\", distress_perc)\n",
    "print(\"% of low risk users who do not have social support:\", social_perc)"
   ]
  },
  {
   "cell_type": "code",
   "execution_count": 1033,
   "metadata": {},
   "outputs": [],
   "source": [
    "#creating a new datafrae for only no risk users\n",
    "no_risk = covidstress[covidstress['mental_health_risk']=='No Risk']"
   ]
  },
  {
   "cell_type": "code",
   "execution_count": 1034,
   "metadata": {},
   "outputs": [],
   "source": [
    "stress_perc = (no_risk[no_risk['perceived_stress_avg'] > 6].id.count()/no_risk.id.count()) * 100\n",
    "stress_perc = stress_perc.round(2)\n",
    "corona_concern_perc = (no_risk[no_risk['corona_concerns_avg'] > 6].id.count()/no_risk.id.count()) * 100\n",
    "corona_concern_perc = corona_concern_perc.round(2)\n",
    "distress_perc = (no_risk[no_risk['distress_avg'] > 6].id.count()/no_risk.id.count()) * 100\n",
    "distress_perc = distress_perc.round(2)\n",
    "social_perc = (no_risk[no_risk['social_support_avg'] <= 8].id.count()/no_risk.id.count()) * 100\n",
    "social_perc = social_perc.round(2)"
   ]
  },
  {
   "cell_type": "code",
   "execution_count": 1035,
   "metadata": {},
   "outputs": [
    {
     "name": "stdout",
     "output_type": "stream",
     "text": [
      "% of no risk users who are stressed: 7.42\n",
      "% of no risk users who have coronavirus concerns: 54.22\n",
      "% of no risk users who are distressed: 7.16\n",
      "% of no risk users who do not have social support: 0.0\n"
     ]
    }
   ],
   "source": [
    "print(\"% of no risk users who are stressed:\", stress_perc)\n",
    "print(\"% of no risk users who have coronavirus concerns:\", corona_concern_perc)\n",
    "print(\"% of no risk users who are distressed:\", distress_perc)\n",
    "print(\"% of no risk users who do not have social support:\", social_perc)"
   ]
  }
 ],
 "metadata": {
  "kernelspec": {
   "display_name": "Python 3",
   "language": "python",
   "name": "python3"
  },
  "language_info": {
   "codemirror_mode": {
    "name": "ipython",
    "version": 3
   },
   "file_extension": ".py",
   "mimetype": "text/x-python",
   "name": "python",
   "nbconvert_exporter": "python",
   "pygments_lexer": "ipython3",
   "version": "3.8.5"
  }
 },
 "nbformat": 4,
 "nbformat_minor": 4
}
